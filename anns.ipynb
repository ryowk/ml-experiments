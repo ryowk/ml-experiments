{
 "cells": [
  {
   "cell_type": "code",
   "execution_count": 1,
   "id": "d97ad7a1",
   "metadata": {},
   "outputs": [],
   "source": [
    "import faiss\n",
    "import numpy as np\n",
    "import matplotlib.pyplot as plt\n",
    "\n",
    "np.random.seed(42)"
   ]
  },
  {
   "cell_type": "code",
   "execution_count": 2,
   "id": "74179c56",
   "metadata": {},
   "outputs": [],
   "source": [
    "def get_random_normalized_vectors(n, m):\n",
    "    x = np.random.uniform(-1.0, 1.0, (n, m))\n",
    "    x += np.random.binomial(1, 0.1, (n, m)) * np.random.uniform(-5.0, 5.0, (n, m))\n",
    "    x = (x.T / np.sqrt(np.sum(x*x, axis=1))).T\n",
    "    return x.astype(np.float32)\n",
    "\n",
    "n_dim = 128\n",
    "nb = 1000000\n",
    "nq = 1000\n",
    "topk = 1000\n",
    "\n",
    "xb = get_random_normalized_vectors(nb, n_dim)\n",
    "xq = get_random_normalized_vectors(nq, n_dim)"
   ]
  },
  {
   "cell_type": "code",
   "execution_count": 3,
   "id": "b7310bcc",
   "metadata": {},
   "outputs": [
    {
     "data": {
      "text/plain": [
       "[<matplotlib.lines.Line2D at 0x12968f9d0>]"
      ]
     },
     "execution_count": 3,
     "metadata": {},
     "output_type": "execute_result"
    },
    {
     "data": {
      "image/png": "[encoded data removed]",
      "text/plain": [
       "<Figure size 432x288 with 1 Axes>"
      ]
     },
     "metadata": {
      "needs_background": "light"
     },
     "output_type": "display_data"
    }
   ],
   "source": [
    "plt.plot(xb[0])"
   ]
  },
  {
   "cell_type": "code",
   "execution_count": 4,
   "id": "4051f8d4",
   "metadata": {},
   "outputs": [],
   "source": [
    "idxs_true = np.argsort(-np.dot(xq, xb.T), axis=1)[:,:topk]"
   ]
  },
  {
   "cell_type": "code",
   "execution_count": 5,
   "id": "63532857",
   "metadata": {},
   "outputs": [],
   "source": [
    "def evaluate(idxs_pred, idxs_true):\n",
    "    assert idxs_pred.shape == idxs_true.shape\n",
    "    topk = idxs_pred.shape[1]\n",
    "    scores = []\n",
    "    for a, b in zip(idxs_pred, idxs_true):\n",
    "        score = len(set(a)&set(b)) / topk\n",
    "        scores.append(score)\n",
    "    return np.mean(scores)"
   ]
  },
  {
   "cell_type": "markdown",
   "id": "55dae4d0",
   "metadata": {},
   "source": [
    "## Exhaustive search"
   ]
  },
  {
   "cell_type": "code",
   "execution_count": 6,
   "id": "e0db443a",
   "metadata": {},
   "outputs": [
    {
     "name": "stdout",
     "output_type": "stream",
     "text": [
      "CPU times: user 75.8 ms, sys: 252 ms, total: 327 ms\n",
      "Wall time: 504 ms\n"
     ]
    }
   ],
   "source": [
    "%%time\n",
    "index = faiss.index_factory(n_dim, \"Flat\", faiss.METRIC_INNER_PRODUCT)\n",
    "index.add(xb)"
   ]
  },
  {
   "cell_type": "code",
   "execution_count": 7,
   "id": "71a625ef",
   "metadata": {},
   "outputs": [
    {
     "name": "stdout",
     "output_type": "stream",
     "text": [
      "CPU times: user 14.2 s, sys: 2.45 s, total: 16.7 s\n",
      "Wall time: 2.65 s\n"
     ]
    }
   ],
   "source": [
    "%%time\n",
    "distance, idxs = index.search(xq, topk)"
   ]
  },
  {
   "cell_type": "code",
   "execution_count": 8,
   "id": "a260c3fa",
   "metadata": {},
   "outputs": [
    {
     "data": {
      "text/plain": [
       "1.0"
      ]
     },
     "execution_count": 8,
     "metadata": {},
     "output_type": "execute_result"
    }
   ],
   "source": [
    "evaluate(idxs, idxs_true)"
   ]
  },
  {
   "cell_type": "markdown",
   "id": "6c2ab398",
   "metadata": {},
   "source": [
    "## Non-exhaustive search"
   ]
  },
  {
   "cell_type": "code",
   "execution_count": 9,
   "id": "d8a71cbc",
   "metadata": {},
   "outputs": [
    {
     "name": "stdout",
     "output_type": "stream",
     "text": [
      "CPU times: user 2.83 s, sys: 897 ms, total: 3.73 s\n",
      "Wall time: 615 ms\n"
     ]
    }
   ],
   "source": [
    "%%time\n",
    "index = faiss.index_factory(n_dim, \"IVF100,Flat\", faiss.METRIC_INNER_PRODUCT)\n",
    "index.train(xb)\n",
    "index.add(xb)"
   ]
  },
  {
   "cell_type": "code",
   "execution_count": 10,
   "id": "ba23caaf",
   "metadata": {},
   "outputs": [
    {
     "name": "stdout",
     "output_type": "stream",
     "text": [
      "CPU times: user 6.25 s, sys: 95.7 ms, total: 6.35 s\n",
      "Wall time: 929 ms\n"
     ]
    }
   ],
   "source": [
    "%%time\n",
    "index.nprobe = 10\n",
    "distance, idxs = index.search(xq, topk)"
   ]
  },
  {
   "cell_type": "code",
   "execution_count": 11,
   "id": "3160ed9f",
   "metadata": {},
   "outputs": [
    {
     "data": {
      "text/plain": [
       "0.495274"
      ]
     },
     "execution_count": 11,
     "metadata": {},
     "output_type": "execute_result"
    }
   ],
   "source": [
    "evaluate(idxs, idxs_true)"
   ]
  },
  {
   "cell_type": "markdown",
   "id": "0fa08769",
   "metadata": {},
   "source": []
  }
 ],
 "metadata": {
  "interpreter": {
   "hash": "8364c30153e64a8e41dd07360d596e08d8f830a531d4b9efe2f4c7f1ee4851c5"
  },
  "kernelspec": {
   "display_name": "Python 3.9.9 64-bit ('3.9.9': pyenv)",
   "language": "python",
   "name": "python3"
  },
  "language_info": {
   "codemirror_mode": {
    "name": "ipython",
    "version": 3
   },
   "file_extension": ".py",
   "mimetype": "text/x-python",
   "name": "python",
   "nbconvert_exporter": "python",
   "pygments_lexer": "ipython3",
   "version": "3.9.9"
  }
 },
 "nbformat": 4,
 "nbformat_minor": 5
}
